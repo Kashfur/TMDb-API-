{
 "cells": [
  {
   "cell_type": "markdown",
   "id": "23829c54",
   "metadata": {},
   "source": [
    "For this project, we are using the TMDb (The Movie Database) API.\n",
    "TMDb API enables you to find out the latest information about TV Shows, Movies and the biggest names in entertainment sector for a marvelous and fun TV/Movie watching experience.\n",
    "\n",
    "\n"
   ]
  },
  {
   "cell_type": "code",
   "execution_count": 69,
   "id": "6f8a5a8d",
   "metadata": {},
   "outputs": [
    {
     "name": "stdout",
     "output_type": "stream",
     "text": [
      "534780\n"
     ]
    }
   ],
   "source": [
    "# Find the 'id' of the movie \"Andhadhun\" using TMDb API.\n",
    "\n",
    "import requests\n",
    "api_key='54debc629242ac87fe8af5addbb78403'\n",
    "api_link='https://api.themoviedb.org/3'\n",
    "params={'query':'Andhadhun','api_key':api_key}\n",
    "headers={\"accept\":\"application/json\"}\n",
    "response=requests.get(api_link +'/search/movie',headers=headers ,params=params)\n",
    "data=response.json()\n",
    "results=data.get('results')\n",
    "for results in results:\n",
    "    if results.get('title')==('Andhadhun'):\n",
    "       print(results.get('id'))\n",
    "       "
   ]
  },
  {
   "cell_type": "code",
   "execution_count": 76,
   "id": "ebe2b881",
   "metadata": {},
   "outputs": [
    {
     "name": "stdout",
     "output_type": "stream",
     "text": [
      "420\n"
     ]
    }
   ],
   "source": [
    "#  Fetch the company id company 'Marvel Studios' using TMDb. Print the id.\n",
    "\n",
    "import requests\n",
    "api_key='54debc629242ac87fe8af5addbb78403'\n",
    "api_link='https://api.themoviedb.org/3'\n",
    "params={'query':'Marvel Studios','api_key':api_key}\n",
    "headers={\"accept\":\"application/json\"}\n",
    "response=requests.get(api_link +'/search/company',headers=headers ,params=params)\n",
    "data=response.json()\n",
    "results=data.get('results')\n",
    "for results in results:\n",
    "     if results.get('name')==('Marvel Studios'):\n",
    "            print(results.get('id'))\n",
    "   "
   ]
  },
  {
   "cell_type": "code",
   "execution_count": 80,
   "id": "49fbff97",
   "metadata": {},
   "outputs": [
    {
     "name": "stdout",
     "output_type": "stream",
     "text": [
      "1874 8\n"
     ]
    }
   ],
   "source": [
    "# Find the vote count and vote average of the movie \"3 Idiots\" using the TMDb API\n",
    "import requests\n",
    "api_key='54debc629242ac87fe8af5addbb78403'\n",
    "api_link='https://api.themoviedb.org/3'\n",
    "params={'query':'3 Idiots','api_key':api_key}\n",
    "headers={\"accept\":\"application/json\"}\n",
    "response=requests.get(api_link +'/search/movie',headers=headers ,params=params)\n",
    "data=response.json()\n",
    "results=data.get('results')\n",
    "for results in results:\n",
    "     if results.get('title')==('3 Idiots'):\n",
    "            print(results.get('vote_count'),results.get('vote_average'))\n",
    "           \n",
    "   "
   ]
  },
  {
   "cell_type": "code",
   "execution_count": 89,
   "id": "d6b22804",
   "metadata": {},
   "outputs": [
    {
     "name": "stdout",
     "output_type": "stream",
     "text": [
      "Inception\n",
      "The Hunter\n",
      "Prometheus\n",
      "Never Back Down 2: The Beatdown\n",
      "Now & Later\n"
     ]
    }
   ],
   "source": [
    "# Fetch the names of top 5 similar movies to 'Inception' from the TMDb API.\n",
    "import requests\n",
    "api_key='54debc629242ac87fe8af5addbb78403'\n",
    "api_link='https://api.themoviedb.org/3'\n",
    "params={'query':'inception','api_key':api_key}\n",
    "headers={\"accept\":\"application/json\"}\n",
    "response=requests.get(api_link +'/search/movie',headers=headers ,params=params)\n",
    "data = response.json()\n",
    "results = data.get('results')\n",
    "for result in results:\n",
    "    if result.get('title') == 'Inception':\n",
    "        id = result.get('id')\n",
    "params2 = {'api_key':api_key}\n",
    "response2 = requests.get(api_link + \"/movie/\" + str(id) + \"/similar\", headers = headers, params=params2)\n",
    "data2 = response2.json()\n",
    "results2 = data2.get('results')\n",
    "for result in results2[:5]:\n",
    "    print(result.get(\"title\"))"
   ]
  },
  {
   "cell_type": "code",
   "execution_count": 3,
   "id": "a41baf41",
   "metadata": {},
   "outputs": [
    {
     "name": "stdout",
     "output_type": "stream",
     "text": [
      "The Shawshank Redemption - Drama, Crime, \n",
      "The Godfather - Drama, Crime, \n",
      "Schindler's List - Drama, History, War, \n",
      "The Godfather: Part II - Drama, Crime, \n",
      "Purple Hearts - Romance, Drama, \n",
      "12 Angry Men - Drama, \n",
      "Gabriel's Inferno - Romance, \n",
      "The Green Mile - Fantasy, Drama, Crime, \n",
      "Gabriel's Inferno: Part II - Romance, \n",
      "The Dark Knight - Drama, Action, Crime, Thriller, \n"
     ]
    }
   ],
   "source": [
    "# Fetch the top 10 rated english movies in the US region using the TMDb API.\n",
    "import requests \n",
    "api_key = \"62d20fac56f759adeeb60e9d3b880a19\" \n",
    "api_link = \"https://api.themoviedb.org/3\" \n",
    "params = {'api_key':api_key} \n",
    "header = {'Accept': 'application/json'} \n",
    "response = requests.get(api_link + \"/movie/top_rated\", headers = header, params=params) \n",
    "data = response.json() \n",
    "results = data.get('results')\n",
    "\n",
    "\n",
    "response1 = requests.get(api_link + \"/genre/movie/list\", headers = header, params=params)\n",
    "data1 = response1.json() \n",
    "\n",
    "\n",
    "for r in range(18) :\n",
    "    if results[r]['original_language'] == 'en':\n",
    "        print(results[r]['title'],end = ' - ')\n",
    "        c = 0\n",
    "        for g_id in results[r]['genre_ids'] :\n",
    "            c += 1\n",
    "            for d in data1['genres'] :\n",
    "                if g_id == d['id'] :\n",
    "                        print(d['name'],end = ', ')\n",
    "                        break\n",
    "        print()"
   ]
  },
  {
   "cell_type": "code",
   "execution_count": 5,
   "id": "a6a5ba0f",
   "metadata": {},
   "outputs": [
    {
     "name": "stdout",
     "output_type": "stream",
     "text": [
      "224513\n",
      "Ana de Armas - Santa Cruz del Norte, Cuba\n"
     ]
    }
   ],
   "source": [
    "# Find the name and birthplace of the present most popular person according to TMDb API.\n",
    "\n",
    "import requests\n",
    "api_key = \"e226f4a5f5bace766952aa0d17182959\"\n",
    "api_link = \"https://api.themoviedb.org/3\"\n",
    "params = {'query':\"Inception\", 'api_key':api_key}\n",
    "header = {'Accept': 'application/json'}\n",
    "response = requests.get(api_link + \"/person/popular\", headers = header, params=params)\n",
    "data = response.json()\n",
    "id_popular=data.get('results')[0].get('id')\n",
    "print(id_popular)\n",
    "name_popular=data.get('results')[0].get('name')\n",
    "response2 = requests.get(api_link + \"/person/\" +str(id_popular), headers = header, params=params)\n",
    "data2=response2.json()\n",
    "print(name_popular,\"-\",data2.get('place_of_birth'))"
   ]
  },
  {
   "cell_type": "code",
   "execution_count": 6,
   "id": "c63dd495",
   "metadata": {},
   "outputs": [
    {
     "name": "stdout",
     "output_type": "stream",
     "text": [
      "Yes\n"
     ]
    }
   ],
   "source": [
    "# Did James McAvoy play a role in the movie Deadpool 2. Print Yes or No.\n",
    "import requests\n",
    "api_key='54debc629242ac87fe8af5addbb78403'\n",
    "api_link='https://api.themoviedb.org/3'\n",
    "params={'query':'Deadpool 2','api_key':api_key}\n",
    "headers={\"accept\":\"application/json\"}\n",
    "response=requests.get(api_link +'/search/movie',headers=headers ,params=params)\n",
    "data=response.json()\n",
    "results=data.get('results')\n",
    "for results in results:\n",
    "    if results.get('title')==('Deadpool 2'):\n",
    "       id=results.get('id')\n",
    "    params2 = {'api_key':api_key}\n",
    "response2 = requests.get(api_link + \"/movie/\" + str(id) + \"/credits\", headers = headers, params=params2)\n",
    "data2 = response2.json()\n",
    "results2 = data2.get('cast')\n",
    "for result in results2:\n",
    "    if result.get('name')=='James McAvoy':\n",
    "        print('Yes')\n",
    "        Flag=True\n",
    "if not Flag:\n",
    "    print('No')\n",
    "       "
   ]
  },
  {
   "cell_type": "code",
   "execution_count": 7,
   "id": "66f6a87b",
   "metadata": {},
   "outputs": [
    {
     "name": "stdout",
     "output_type": "stream",
     "text": [
      "Not Credited\n"
     ]
    }
   ],
   "source": [
    "# Using the result obtained in previous question, find out if James McAvoy was credited for his role in movie Deadpool 2.\n",
    "import requests\n",
    "api_key='54debc629242ac87fe8af5addbb78403'\n",
    "api_link='https://api.themoviedb.org/3'\n",
    "params={'query':'Deadpool 2','api_key':api_key}\n",
    "headers={\"accept\":\"application/json\"}\n",
    "response=requests.get(api_link +'/search/movie',headers=headers ,params=params)\n",
    "data=response.json()\n",
    "results=data.get('results')\n",
    "for results in results:\n",
    "    if results.get('title')==('Deadpool 2'):\n",
    "       id=results.get('id')\n",
    "    params2 = {'api_key':api_key}\n",
    "response2 = requests.get(api_link + \"/movie/\" + str(id) + \"/credits\", headers = headers, params=params2)\n",
    "data2 = response2.json()\n",
    "results2 = data2.get('cast')\n",
    "for result in results2:\n",
    "    if result.get('name')=='James McAvoy':\n",
    "        james_info=result\n",
    "        break\n",
    "if 'uncredited' in james_info.get('character'):\n",
    "    print('Not Credited')\n",
    "else:\n",
    "    print('credited')\n",
    "       "
   ]
  },
  {
   "cell_type": "code",
   "execution_count": 8,
   "id": "527548bf",
   "metadata": {},
   "outputs": [
    {
     "name": "stdout",
     "output_type": "stream",
     "text": [
      "aliaabhatt Aliaa08\n"
     ]
    }
   ],
   "source": [
    "# Fetch the Instagram and Twitter handle of Indian Actress \"Alia Bhatt\" from the TMDb API.\n",
    "import requests\n",
    "param ={'api_key':'3149f0148c5aa4528155d2e09cb7f2d8','query':\"Alia Bhat\"}\n",
    "header={\"Accept\":\"application/json\"}\n",
    "\n",
    "api_link = \"https://api.themoviedb.org/3/\"\n",
    "response = requests.get(api_link+\"search/person\",params = param,headers = header)\n",
    "data = response.json()\n",
    "id = data[\"results\"][0][\"id\"]\n",
    "\n",
    "param ={'api_key':'3149f0148c5aa4528155d2e09cb7f2d8'}\n",
    "response = requests.get(api_link+\"person/\"+str(id)+\"/external_ids\",params = param,headers = header)\n",
    "print(response.json()['instagram_id'],response.json()['twitter_id'])\n"
   ]
  },
  {
   "cell_type": "code",
   "execution_count": 10,
   "id": "c2298a72",
   "metadata": {},
   "outputs": [
    {
     "name": "stdout",
     "output_type": "stream",
     "text": [
      "Lt. Pete 'Maverick' Mitchell\n",
      "Ethan Hunt\n",
      "Chief John Anderton\n",
      "Maj. William 'Bill' Cage\n"
     ]
    }
   ],
   "source": [
    "# Fetch the names of the character played by Tom Cruise in the movies:\n",
    "import requests\n",
    "api_key='54debc629242ac87fe8af5addbb78403'\n",
    "api_link='https://api.themoviedb.org/3'\n",
    "params={'query':' Tom Cruise','api_key':api_key}\n",
    "headers={\"accept\":\"application/json\"}\n",
    "response=requests.get(api_link +'/search/person',headers=headers ,params=params)\n",
    "data=response.json()\n",
    "results=data.get('results')\n",
    "id=results[0]['id']\n",
    "params2={'api_key':api_key}\n",
    "response2=requests.get(api_link +'/person/'+str(id)+'/movie_credits',headers=headers ,params=params)\n",
    "data2=response2.json()\n",
    "cast=data2.get('cast')\n",
    "for casts in cast:\n",
    "    if casts.get('original_title')=='Top Gun':\n",
    "        print(casts.get('character'))\n",
    "for casts in cast:\n",
    "    if casts.get('original_title')=='Mission: Impossible - Fallout':\n",
    "        print(casts.get('character'))\n",
    "for casts in cast:\n",
    "    if casts.get('original_title')=='Minority Report':\n",
    "        print(casts.get('character'))\n",
    "for casts in cast:\n",
    "    if casts.get('original_title')=='Edge of Tomorrow':\n",
    "        print(casts.get('character'))\n",
    "        "
   ]
  },
  {
   "cell_type": "code",
   "execution_count": 11,
   "id": "4a0f3ac7",
   "metadata": {},
   "outputs": [
    {
     "name": "stdout",
     "output_type": "stream",
     "text": [
      "Six young people from New York City, on their own and struggling to survive in the real world, find the companionship, comfort and support they get from each other to be the perfect antidote to the pressures of life.\n"
     ]
    }
   ],
   "source": [
    "# Fetch the overview of the TV Show \"FRIENDS\" using TMDb API.\n",
    "import requests\n",
    "api_key='54debc629242ac87fe8af5addbb78403'\n",
    "api_link='https://api.themoviedb.org/3'\n",
    "params={'query':'Friends','api_key':api_key}\n",
    "headers={\"accept\":\"application/json\"}\n",
    "response=requests.get(api_link +'/search/tv',headers=headers ,params=params)\n",
    "data=response.json()\n",
    "results=data.get('results')\n",
    "for results in results:\n",
    "    if results.get('name')=='Friends':\n",
    "       print(results.get('overview'))\n",
    "       "
   ]
  },
  {
   "cell_type": "code",
   "execution_count": 12,
   "id": "d01b65dc",
   "metadata": {},
   "outputs": [
    {
     "name": "stdout",
     "output_type": "stream",
     "text": [
      "The Holographic Excitation - 2012-10-25\n"
     ]
    }
   ],
   "source": [
    "# Fetch the name and air date of S06E05 of the TV Show 'The Big Bang Theory' from TMDb API.\n",
    "import requests\n",
    "api_key='54debc629242ac87fe8af5addbb78403'\n",
    "api_link='https://api.themoviedb.org/3'\n",
    "params={'query':'The Big Bang Theory' ,'api_key':api_key}\n",
    "headers={\"accept\":\"application/json\"}\n",
    "response=requests.get(api_link +'/search/tv',headers=headers ,params=params)\n",
    "data=response.json()\n",
    "results=data.get('results')\n",
    "for results in results:\n",
    "    if results.get('name')=='The Big Bang Theory':\n",
    "       id=results.get('id')\n",
    "params2={'api_key':api_key}\n",
    "response2=requests.get(api_link +'/tv/'+str(id)+'/season/6/episode/5',headers=headers ,params=params2)\n",
    "data2=response2.json()\n",
    "print(data2.get(\"name\"),\"-\",data2.get(\"air_date\"))"
   ]
  },
  {
   "cell_type": "code",
   "execution_count": null,
   "id": "7a0dc269",
   "metadata": {},
   "outputs": [],
   "source": []
  }
 ],
 "metadata": {
  "kernelspec": {
   "display_name": "Python 3 (ipykernel)",
   "language": "python",
   "name": "python3"
  },
  "language_info": {
   "codemirror_mode": {
    "name": "ipython",
    "version": 3
   },
   "file_extension": ".py",
   "mimetype": "text/x-python",
   "name": "python",
   "nbconvert_exporter": "python",
   "pygments_lexer": "ipython3",
   "version": "3.9.12"
  }
 },
 "nbformat": 4,
 "nbformat_minor": 5
}
